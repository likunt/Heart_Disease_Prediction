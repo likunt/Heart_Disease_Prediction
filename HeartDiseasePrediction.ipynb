{
 "cells": [
  {
   "cell_type": "markdown",
   "id": "edc1f5a6",
   "metadata": {},
   "source": [
    "### 1. Problem Statement\n",
    "\n",
    "Cardiovascular diseases are the leading cause of death globally. It is therefore necessary to identify the causes and develop a system to predict heart attacks in an effective manner. The dataset has the information about the factors that might have an impact on cardiovascular health. The target field refers to the presence of heart disease in the patient. It is integer valued 0 = no disease and 1 = disease. Attribute information is described below:\n",
    "\n",
    "#### Data Dictionary\n",
    "\n",
    "1. `age` - age in years\n",
    "2. `sex` - (1 = male; 0 = female)\n",
    "3. `cp` - chest pain type\n",
    "    * 0: Typical angina: chest pain related decrease blood supply to the heart\n",
    "    * 1: Atypical angina: chest pain not related to heart\n",
    "    * 2: Non-anginal pain: typically esophageal spasms (non heart related)\n",
    "    * 3: Asymptomatic: chest pain not showing signs of disease\n",
    "4. `trestbps` - resting blood pressure (in mm Hg on admission to the hospital) anything above 130-140 is typically cause for concern\n",
    "5. `chol` - serum cholestoral in mg/dl\n",
    "    * serum = LDL + HDL + .2 * triglycerides\n",
    "    * above 200 is cause for concern\n",
    "6. `fbs` - (fasting blood sugar > 120 mg/dl) (1 = true; 0 = false)\n",
    "    * '>126' mg/dL signals diabetes\n",
    "7. `restecg` - resting electrocardiographic results\n",
    "    * 0: Nothing to note\n",
    "    * 1: ST-T Wave abnormality\n",
    "        * can range from mild symptoms to severe problems\n",
    "        * signals non-normal heart beat\n",
    "    * 2: Possible or definite left ventricular hypertrophy\n",
    "        * Enlarged heart's main pumping chamber\n",
    "8. `thalach` - maximum heart rate achieved\n",
    "9. `exang` - exercise induced angina (1 = yes; 0 = no)\n",
    "10. `oldpeak` - ST depression induced by exercise relative to rest looks at stress of heart during excercise unhealthy heart will stress more\n",
    "11. `slope` - the slope of the peak exercise ST segment\n",
    "    * 0: Upsloping: better heart rate with excercise (uncommon)\n",
    "    * 1: Flatsloping: minimal change (typical healthy heart)\n",
    "    * 2: Downslopins: signs of unhealthy heart\n",
    "12. `ca` - number of major vessels (0-4) colored by flourosopy\n",
    "    * colored vessel means the doctor can see the blood passing through\n",
    "    * the more blood movement the better (no clots)\n",
    "13. `thal` - thalium stress result\n",
    "    * 0,1: normal\n",
    "    * 2: fixed defect: used to be defect but ok now\n",
    "    * 3: reversable defect: no proper blood movement when excercising\n",
    "14. `target` - have disease or not (1=yes, 0=no) (= the predicted attribute)\n"
   ]
  },
  {
   "cell_type": "code",
   "execution_count": 1,
   "id": "f7f41753",
   "metadata": {},
   "outputs": [],
   "source": [
    "import pandas as pd\n",
    "import numpy as np\n",
    "import matplotlib.pyplot as plt\n",
    "import seaborn as sns\n",
    "import scipy.stats as ss\n",
    "%matplotlib inline\n",
    "import warnings\n",
    "warnings.filterwarnings('ignore')"
   ]
  },
  {
   "cell_type": "markdown",
   "id": "dbf5aaee",
   "metadata": {},
   "source": [
    "### 2. Data Extraction"
   ]
  },
  {
   "cell_type": "code",
   "execution_count": 2,
   "id": "2d20e3d6",
   "metadata": {},
   "outputs": [
    {
     "data": {
      "text/plain": [
       "(303, 14)"
      ]
     },
     "execution_count": 2,
     "metadata": {},
     "output_type": "execute_result"
    }
   ],
   "source": [
    "df=pd.read_excel('clinical_dataset.xlsx')\n",
    "df.shape"
   ]
  },
  {
   "cell_type": "markdown",
   "id": "845c9863",
   "metadata": {},
   "source": [
    "The dataset contains **303** rows and **14** features (columns)."
   ]
  },
  {
   "cell_type": "code",
   "execution_count": 3,
   "id": "45522232",
   "metadata": {},
   "outputs": [
    {
     "data": {
      "text/html": [
       "<div>\n",
       "<style scoped>\n",
       "    .dataframe tbody tr th:only-of-type {\n",
       "        vertical-align: middle;\n",
       "    }\n",
       "\n",
       "    .dataframe tbody tr th {\n",
       "        vertical-align: top;\n",
       "    }\n",
       "\n",
       "    .dataframe thead th {\n",
       "        text-align: right;\n",
       "    }\n",
       "</style>\n",
       "<table border=\"1\" class=\"dataframe\">\n",
       "  <thead>\n",
       "    <tr style=\"text-align: right;\">\n",
       "      <th></th>\n",
       "      <th>age</th>\n",
       "      <th>sex</th>\n",
       "      <th>cp</th>\n",
       "      <th>trestbps</th>\n",
       "      <th>chol</th>\n",
       "      <th>fbs</th>\n",
       "      <th>restecg</th>\n",
       "      <th>thalach</th>\n",
       "      <th>exang</th>\n",
       "      <th>oldpeak</th>\n",
       "      <th>slope</th>\n",
       "      <th>ca</th>\n",
       "      <th>thal</th>\n",
       "      <th>target</th>\n",
       "    </tr>\n",
       "  </thead>\n",
       "  <tbody>\n",
       "    <tr>\n",
       "      <th>0</th>\n",
       "      <td>63</td>\n",
       "      <td>1</td>\n",
       "      <td>3</td>\n",
       "      <td>145</td>\n",
       "      <td>233</td>\n",
       "      <td>1</td>\n",
       "      <td>0</td>\n",
       "      <td>150</td>\n",
       "      <td>0</td>\n",
       "      <td>2.3</td>\n",
       "      <td>0</td>\n",
       "      <td>0</td>\n",
       "      <td>1</td>\n",
       "      <td>1</td>\n",
       "    </tr>\n",
       "    <tr>\n",
       "      <th>1</th>\n",
       "      <td>37</td>\n",
       "      <td>1</td>\n",
       "      <td>2</td>\n",
       "      <td>130</td>\n",
       "      <td>250</td>\n",
       "      <td>0</td>\n",
       "      <td>1</td>\n",
       "      <td>187</td>\n",
       "      <td>0</td>\n",
       "      <td>3.5</td>\n",
       "      <td>0</td>\n",
       "      <td>0</td>\n",
       "      <td>2</td>\n",
       "      <td>1</td>\n",
       "    </tr>\n",
       "    <tr>\n",
       "      <th>2</th>\n",
       "      <td>41</td>\n",
       "      <td>0</td>\n",
       "      <td>1</td>\n",
       "      <td>130</td>\n",
       "      <td>204</td>\n",
       "      <td>0</td>\n",
       "      <td>0</td>\n",
       "      <td>172</td>\n",
       "      <td>0</td>\n",
       "      <td>1.4</td>\n",
       "      <td>2</td>\n",
       "      <td>0</td>\n",
       "      <td>2</td>\n",
       "      <td>1</td>\n",
       "    </tr>\n",
       "    <tr>\n",
       "      <th>3</th>\n",
       "      <td>56</td>\n",
       "      <td>1</td>\n",
       "      <td>1</td>\n",
       "      <td>120</td>\n",
       "      <td>236</td>\n",
       "      <td>0</td>\n",
       "      <td>1</td>\n",
       "      <td>178</td>\n",
       "      <td>0</td>\n",
       "      <td>0.8</td>\n",
       "      <td>2</td>\n",
       "      <td>0</td>\n",
       "      <td>2</td>\n",
       "      <td>1</td>\n",
       "    </tr>\n",
       "    <tr>\n",
       "      <th>4</th>\n",
       "      <td>57</td>\n",
       "      <td>0</td>\n",
       "      <td>0</td>\n",
       "      <td>120</td>\n",
       "      <td>354</td>\n",
       "      <td>0</td>\n",
       "      <td>1</td>\n",
       "      <td>163</td>\n",
       "      <td>1</td>\n",
       "      <td>0.6</td>\n",
       "      <td>2</td>\n",
       "      <td>0</td>\n",
       "      <td>2</td>\n",
       "      <td>1</td>\n",
       "    </tr>\n",
       "  </tbody>\n",
       "</table>\n",
       "</div>"
      ],
      "text/plain": [
       "   age  sex  cp  trestbps  chol  fbs  restecg  thalach  exang  oldpeak  slope  \\\n",
       "0   63    1   3       145   233    1        0      150      0      2.3      0   \n",
       "1   37    1   2       130   250    0        1      187      0      3.5      0   \n",
       "2   41    0   1       130   204    0        0      172      0      1.4      2   \n",
       "3   56    1   1       120   236    0        1      178      0      0.8      2   \n",
       "4   57    0   0       120   354    0        1      163      1      0.6      2   \n",
       "\n",
       "   ca  thal  target  \n",
       "0   0     1       1  \n",
       "1   0     2       1  \n",
       "2   0     2       1  \n",
       "3   0     2       1  \n",
       "4   0     2       1  "
      ]
     },
     "execution_count": 3,
     "metadata": {},
     "output_type": "execute_result"
    }
   ],
   "source": [
    "df.head()"
   ]
  },
  {
   "cell_type": "markdown",
   "id": "2fcd0415",
   "metadata": {},
   "source": [
    "Dataset has 13 features and 1 **target** variable"
   ]
  },
  {
   "cell_type": "markdown",
   "id": "0b42e17c",
   "metadata": {},
   "source": [
    "### 3. Exploratory Data Analysis (EDA)"
   ]
  },
  {
   "cell_type": "markdown",
   "id": "ca01eb49",
   "metadata": {},
   "source": [
    "#### 3.1 Preliminary data inspection on data structure, missing values, duplicates etc."
   ]
  },
  {
   "cell_type": "code",
   "execution_count": 4,
   "id": "aa13da0d",
   "metadata": {},
   "outputs": [
    {
     "name": "stdout",
     "output_type": "stream",
     "text": [
      "<class 'pandas.core.frame.DataFrame'>\n",
      "RangeIndex: 303 entries, 0 to 302\n",
      "Data columns (total 14 columns):\n",
      " #   Column    Non-Null Count  Dtype  \n",
      "---  ------    --------------  -----  \n",
      " 0   age       303 non-null    int64  \n",
      " 1   sex       303 non-null    int64  \n",
      " 2   cp        303 non-null    int64  \n",
      " 3   trestbps  303 non-null    int64  \n",
      " 4   chol      303 non-null    int64  \n",
      " 5   fbs       303 non-null    int64  \n",
      " 6   restecg   303 non-null    int64  \n",
      " 7   thalach   303 non-null    int64  \n",
      " 8   exang     303 non-null    int64  \n",
      " 9   oldpeak   303 non-null    float64\n",
      " 10  slope     303 non-null    int64  \n",
      " 11  ca        303 non-null    int64  \n",
      " 12  thal      303 non-null    int64  \n",
      " 13  target    303 non-null    int64  \n",
      "dtypes: float64(1), int64(13)\n",
      "memory usage: 33.3 KB\n"
     ]
    }
   ],
   "source": [
    "df.info(memory_usage='deep')"
   ]
  },
  {
   "cell_type": "markdown",
   "id": "4f2a8e5a",
   "metadata": {},
   "source": [
    "All the features are in numerical datatypes, though some may be ordinal features."
   ]
  },
  {
   "cell_type": "code",
   "execution_count": 5,
   "id": "c698ddb5",
   "metadata": {},
   "outputs": [
    {
     "data": {
      "text/plain": [
       "age         0\n",
       "sex         0\n",
       "cp          0\n",
       "trestbps    0\n",
       "chol        0\n",
       "fbs         0\n",
       "restecg     0\n",
       "thalach     0\n",
       "exang       0\n",
       "oldpeak     0\n",
       "slope       0\n",
       "ca          0\n",
       "thal        0\n",
       "target      0\n",
       "dtype: int64"
      ]
     },
     "execution_count": 5,
     "metadata": {},
     "output_type": "execute_result"
    }
   ],
   "source": [
    "df.isna().sum()"
   ]
  },
  {
   "cell_type": "markdown",
   "id": "02bc3730",
   "metadata": {},
   "source": [
    "No missing values in the dataset"
   ]
  },
  {
   "cell_type": "code",
   "execution_count": 6,
   "id": "cae3e1e9",
   "metadata": {},
   "outputs": [
    {
     "data": {
      "text/plain": [
       "0      False\n",
       "205    False\n",
       "204    False\n",
       "203    False\n",
       "202    False\n",
       "       ...  \n",
       "97     False\n",
       "96     False\n",
       "102    False\n",
       "302    False\n",
       "164     True\n",
       "Length: 303, dtype: bool"
      ]
     },
     "execution_count": 6,
     "metadata": {},
     "output_type": "execute_result"
    }
   ],
   "source": [
    "df.duplicated().sort_values()"
   ]
  },
  {
   "cell_type": "markdown",
   "id": "098bced4",
   "metadata": {},
   "source": [
    "row 164 is duplicated which we will remove"
   ]
  },
  {
   "cell_type": "code",
   "execution_count": 7,
   "id": "d397f188",
   "metadata": {},
   "outputs": [
    {
     "data": {
      "text/plain": [
       "False"
      ]
     },
     "execution_count": 7,
     "metadata": {},
     "output_type": "execute_result"
    }
   ],
   "source": [
    "df.drop_duplicates(inplace=True)\n",
    "df.duplicated().any()"
   ]
  },
  {
   "cell_type": "markdown",
   "id": "b0ae7380",
   "metadata": {},
   "source": [
    "No duplicated values now!"
   ]
  },
  {
   "cell_type": "markdown",
   "id": "4b8ab6d1",
   "metadata": {},
   "source": [
    "#### 3.2 Statistical summary, measures of central tendencies and spread of the data"
   ]
  },
  {
   "cell_type": "code",
   "execution_count": 8,
   "id": "e6bbddb0",
   "metadata": {},
   "outputs": [
    {
     "data": {
      "text/html": [
       "<div>\n",
       "<style scoped>\n",
       "    .dataframe tbody tr th:only-of-type {\n",
       "        vertical-align: middle;\n",
       "    }\n",
       "\n",
       "    .dataframe tbody tr th {\n",
       "        vertical-align: top;\n",
       "    }\n",
       "\n",
       "    .dataframe thead th {\n",
       "        text-align: right;\n",
       "    }\n",
       "</style>\n",
       "<table border=\"1\" class=\"dataframe\">\n",
       "  <thead>\n",
       "    <tr style=\"text-align: right;\">\n",
       "      <th></th>\n",
       "      <th>age</th>\n",
       "      <th>sex</th>\n",
       "      <th>cp</th>\n",
       "      <th>trestbps</th>\n",
       "      <th>chol</th>\n",
       "      <th>fbs</th>\n",
       "      <th>restecg</th>\n",
       "      <th>thalach</th>\n",
       "      <th>exang</th>\n",
       "      <th>oldpeak</th>\n",
       "      <th>slope</th>\n",
       "      <th>ca</th>\n",
       "      <th>thal</th>\n",
       "      <th>target</th>\n",
       "    </tr>\n",
       "  </thead>\n",
       "  <tbody>\n",
       "    <tr>\n",
       "      <th>count</th>\n",
       "      <td>302.00000</td>\n",
       "      <td>302.000000</td>\n",
       "      <td>302.000000</td>\n",
       "      <td>302.000000</td>\n",
       "      <td>302.000000</td>\n",
       "      <td>302.000000</td>\n",
       "      <td>302.000000</td>\n",
       "      <td>302.000000</td>\n",
       "      <td>302.000000</td>\n",
       "      <td>302.000000</td>\n",
       "      <td>302.000000</td>\n",
       "      <td>302.000000</td>\n",
       "      <td>302.000000</td>\n",
       "      <td>302.000000</td>\n",
       "    </tr>\n",
       "    <tr>\n",
       "      <th>mean</th>\n",
       "      <td>54.42053</td>\n",
       "      <td>0.682119</td>\n",
       "      <td>0.963576</td>\n",
       "      <td>131.602649</td>\n",
       "      <td>246.500000</td>\n",
       "      <td>0.149007</td>\n",
       "      <td>0.526490</td>\n",
       "      <td>149.569536</td>\n",
       "      <td>0.327815</td>\n",
       "      <td>1.043046</td>\n",
       "      <td>1.397351</td>\n",
       "      <td>0.718543</td>\n",
       "      <td>2.314570</td>\n",
       "      <td>0.543046</td>\n",
       "    </tr>\n",
       "    <tr>\n",
       "      <th>std</th>\n",
       "      <td>9.04797</td>\n",
       "      <td>0.466426</td>\n",
       "      <td>1.032044</td>\n",
       "      <td>17.563394</td>\n",
       "      <td>51.753489</td>\n",
       "      <td>0.356686</td>\n",
       "      <td>0.526027</td>\n",
       "      <td>22.903527</td>\n",
       "      <td>0.470196</td>\n",
       "      <td>1.161452</td>\n",
       "      <td>0.616274</td>\n",
       "      <td>1.006748</td>\n",
       "      <td>0.613026</td>\n",
       "      <td>0.498970</td>\n",
       "    </tr>\n",
       "    <tr>\n",
       "      <th>min</th>\n",
       "      <td>29.00000</td>\n",
       "      <td>0.000000</td>\n",
       "      <td>0.000000</td>\n",
       "      <td>94.000000</td>\n",
       "      <td>126.000000</td>\n",
       "      <td>0.000000</td>\n",
       "      <td>0.000000</td>\n",
       "      <td>71.000000</td>\n",
       "      <td>0.000000</td>\n",
       "      <td>0.000000</td>\n",
       "      <td>0.000000</td>\n",
       "      <td>0.000000</td>\n",
       "      <td>0.000000</td>\n",
       "      <td>0.000000</td>\n",
       "    </tr>\n",
       "    <tr>\n",
       "      <th>25%</th>\n",
       "      <td>48.00000</td>\n",
       "      <td>0.000000</td>\n",
       "      <td>0.000000</td>\n",
       "      <td>120.000000</td>\n",
       "      <td>211.000000</td>\n",
       "      <td>0.000000</td>\n",
       "      <td>0.000000</td>\n",
       "      <td>133.250000</td>\n",
       "      <td>0.000000</td>\n",
       "      <td>0.000000</td>\n",
       "      <td>1.000000</td>\n",
       "      <td>0.000000</td>\n",
       "      <td>2.000000</td>\n",
       "      <td>0.000000</td>\n",
       "    </tr>\n",
       "    <tr>\n",
       "      <th>50%</th>\n",
       "      <td>55.50000</td>\n",
       "      <td>1.000000</td>\n",
       "      <td>1.000000</td>\n",
       "      <td>130.000000</td>\n",
       "      <td>240.500000</td>\n",
       "      <td>0.000000</td>\n",
       "      <td>1.000000</td>\n",
       "      <td>152.500000</td>\n",
       "      <td>0.000000</td>\n",
       "      <td>0.800000</td>\n",
       "      <td>1.000000</td>\n",
       "      <td>0.000000</td>\n",
       "      <td>2.000000</td>\n",
       "      <td>1.000000</td>\n",
       "    </tr>\n",
       "    <tr>\n",
       "      <th>75%</th>\n",
       "      <td>61.00000</td>\n",
       "      <td>1.000000</td>\n",
       "      <td>2.000000</td>\n",
       "      <td>140.000000</td>\n",
       "      <td>274.750000</td>\n",
       "      <td>0.000000</td>\n",
       "      <td>1.000000</td>\n",
       "      <td>166.000000</td>\n",
       "      <td>1.000000</td>\n",
       "      <td>1.600000</td>\n",
       "      <td>2.000000</td>\n",
       "      <td>1.000000</td>\n",
       "      <td>3.000000</td>\n",
       "      <td>1.000000</td>\n",
       "    </tr>\n",
       "    <tr>\n",
       "      <th>max</th>\n",
       "      <td>77.00000</td>\n",
       "      <td>1.000000</td>\n",
       "      <td>3.000000</td>\n",
       "      <td>200.000000</td>\n",
       "      <td>564.000000</td>\n",
       "      <td>1.000000</td>\n",
       "      <td>2.000000</td>\n",
       "      <td>202.000000</td>\n",
       "      <td>1.000000</td>\n",
       "      <td>6.200000</td>\n",
       "      <td>2.000000</td>\n",
       "      <td>4.000000</td>\n",
       "      <td>3.000000</td>\n",
       "      <td>1.000000</td>\n",
       "    </tr>\n",
       "  </tbody>\n",
       "</table>\n",
       "</div>"
      ],
      "text/plain": [
       "             age         sex          cp    trestbps        chol         fbs  \\\n",
       "count  302.00000  302.000000  302.000000  302.000000  302.000000  302.000000   \n",
       "mean    54.42053    0.682119    0.963576  131.602649  246.500000    0.149007   \n",
       "std      9.04797    0.466426    1.032044   17.563394   51.753489    0.356686   \n",
       "min     29.00000    0.000000    0.000000   94.000000  126.000000    0.000000   \n",
       "25%     48.00000    0.000000    0.000000  120.000000  211.000000    0.000000   \n",
       "50%     55.50000    1.000000    1.000000  130.000000  240.500000    0.000000   \n",
       "75%     61.00000    1.000000    2.000000  140.000000  274.750000    0.000000   \n",
       "max     77.00000    1.000000    3.000000  200.000000  564.000000    1.000000   \n",
       "\n",
       "          restecg     thalach       exang     oldpeak       slope          ca  \\\n",
       "count  302.000000  302.000000  302.000000  302.000000  302.000000  302.000000   \n",
       "mean     0.526490  149.569536    0.327815    1.043046    1.397351    0.718543   \n",
       "std      0.526027   22.903527    0.470196    1.161452    0.616274    1.006748   \n",
       "min      0.000000   71.000000    0.000000    0.000000    0.000000    0.000000   \n",
       "25%      0.000000  133.250000    0.000000    0.000000    1.000000    0.000000   \n",
       "50%      1.000000  152.500000    0.000000    0.800000    1.000000    0.000000   \n",
       "75%      1.000000  166.000000    1.000000    1.600000    2.000000    1.000000   \n",
       "max      2.000000  202.000000    1.000000    6.200000    2.000000    4.000000   \n",
       "\n",
       "             thal      target  \n",
       "count  302.000000  302.000000  \n",
       "mean     2.314570    0.543046  \n",
       "std      0.613026    0.498970  \n",
       "min      0.000000    0.000000  \n",
       "25%      2.000000    0.000000  \n",
       "50%      2.000000    1.000000  \n",
       "75%      3.000000    1.000000  \n",
       "max      3.000000    1.000000  "
      ]
     },
     "execution_count": 8,
     "metadata": {},
     "output_type": "execute_result"
    }
   ],
   "source": [
    "df.describe(include='all')"
   ]
  },
  {
   "cell_type": "markdown",
   "id": "448beb23",
   "metadata": {},
   "source": [
    "#### 3.3 Categorical variables"
   ]
  },
  {
   "cell_type": "code",
   "execution_count": 9,
   "id": "bfe9ebb6",
   "metadata": {},
   "outputs": [
    {
     "data": {
      "text/plain": [
       "['sex', 'cp', 'fbs', 'restecg', 'exang', 'slope', 'ca', 'thal', 'target']"
      ]
     },
     "execution_count": 9,
     "metadata": {},
     "output_type": "execute_result"
    }
   ],
   "source": [
    "cat_val = []\n",
    "num_val = []\n",
    "for col in df.columns:\n",
    "    if df[col].nunique() <= 10:\n",
    "        cat_val.append(col)\n",
    "    else:\n",
    "        num_val.append(col)\n",
    "cat_val"
   ]
  },
  {
   "cell_type": "code",
   "execution_count": 10,
   "id": "c43f917f",
   "metadata": {},
   "outputs": [
    {
     "data": {
      "image/png": "[encoded data removed]",
      "text/plain": [
       "<Figure size 1400x600 with 9 Axes>"
      ]
     },
     "metadata": {},
     "output_type": "display_data"
    }
   ],
   "source": [
    "plt.figure(figsize=(14,6))\n",
    "for i, col in enumerate(cat_val):\n",
    "    plt.subplot(2,5,i+1)\n",
    "    sns.countplot(data=df, x=col)\n",
    "    plt.tight_layout()"
   ]
  },
  {
   "cell_type": "markdown",
   "id": "4980e89b",
   "metadata": {},
   "source": [
    "Target variable is almost balanced. However, there is severe imbalance in other categorical features. For example, there are twice number of male than female in the dataset. "
   ]
  },
  {
   "cell_type": "code",
   "execution_count": 11,
   "id": "b965a396",
   "metadata": {},
   "outputs": [
    {
     "data": {
      "image/png": "[encoded data removed]",
      "text/plain": [
       "<Figure size 1800x700 with 8 Axes>"
      ]
     },
     "metadata": {},
     "output_type": "display_data"
    }
   ],
   "source": [
    "plt.figure(figsize=(18, 7))\n",
    "for i, col in enumerate(cat_val, 1):\n",
    "    if col=='target':\n",
    "        continue\n",
    "    plt.subplot(2, 4, i)\n",
    "    sns.countplot(data=df, x=col, hue='target')\n",
    "    plt.legend()\n",
    "    plt.xlabel(col)"
   ]
  },
  {
   "cell_type": "markdown",
   "id": "bcc74e0f",
   "metadata": {},
   "source": [
    "- **sex**: Although female samples are much less than male samples, the percentage of female with heart disease is about 67%, while the percentage is less than 50% for male.\n",
    "- **cp {Chest Pain}**: People with chest pain types 1, 2, 3 are more likely to have heart disease than people with chest pain type 0.\n",
    "- **fbs {Fasting Blood Sugar}**: People with fbs less than 120mg shows a little bit higher chance to have heart disease comparing to people with fbs greater than 120mg.\n",
    "- **restecg {resting electrocardiographic results}**: People with value 1 (signals non-normal heart beat, can range from mild symptoms to severe problems) are more likely to have heart disease.\n",
    "- **exang {exercise induced angina}**: People with value 0 (No ==> exercice induced angina) have heart disease more than people with value 1 (Yes ==> exercice induced angina)\n",
    "- **slope {slope of the peak exercise ST segment}**: People with slope value equal to 2 (Downslopins: signs of unhealthy heart) are more likely to have heart disease than people with slope value equal to 0 (Upsloping: better heart rate with excercise) or 1 (Flatsloping: minimal change (typical healthy heart)).\n",
    "- **ca {number of major vessels (0-4) colored by flourosopy}**: the more blood movement the better so people with ca equal to 0 are more likely to have heart disease.\n",
    "- **thal {thalium stress result}**: People with thal value equal to 2 (fixed defect: used to be defect but ok now) are more likely to have heart disease."
   ]
  },
  {
   "cell_type": "code",
   "execution_count": 12,
   "id": "936486d9",
   "metadata": {},
   "outputs": [
    {
     "data": {
      "text/plain": [
       "[('thal', 3.146295138318122e-18),\n",
       " ('cp', 1.8926838351935918e-17),\n",
       " ('ca', 3.771038067427657e-15),\n",
       " ('exang', 9.556466486179178e-14),\n",
       " ('slope', 6.577782760917924e-11),\n",
       " ('sex', 1.5508552054949547e-06),\n",
       " ('restecg', 0.007713053269318974),\n",
       " ('fbs', 0.7611374700928197)]"
      ]
     },
     "execution_count": 12,
     "metadata": {},
     "output_type": "execute_result"
    }
   ],
   "source": [
    "## Creating an empty variable and picking only the p value from the output of Chi-Square test\n",
    "cat_corr = []\n",
    "for col in cat_val:\n",
    "    if col=='target':\n",
    "        continue\n",
    "    cat_corr.append((col, list(ss.chi2_contingency(pd.crosstab(\n",
    "                 df[col], df['target'])))[1]))\n",
    "cat_corr.sort(key=lambda x:x[1])\n",
    "cat_corr"
   ]
  },
  {
   "cell_type": "markdown",
   "id": "469dd720",
   "metadata": {},
   "source": [
    "From chi-square test, we can see that thal, cp, ca, exang and slope have very strong correlation with target variable, while the rest have a little or no correlations."
   ]
  },
  {
   "cell_type": "markdown",
   "id": "f404b909",
   "metadata": {},
   "source": [
    "#### 3.4 Numerical variables"
   ]
  },
  {
   "cell_type": "code",
   "execution_count": 13,
   "id": "b2882628",
   "metadata": {},
   "outputs": [
    {
     "data": {
      "text/html": [
       "<div>\n",
       "<style scoped>\n",
       "    .dataframe tbody tr th:only-of-type {\n",
       "        vertical-align: middle;\n",
       "    }\n",
       "\n",
       "    .dataframe tbody tr th {\n",
       "        vertical-align: top;\n",
       "    }\n",
       "\n",
       "    .dataframe thead th {\n",
       "        text-align: right;\n",
       "    }\n",
       "</style>\n",
       "<table border=\"1\" class=\"dataframe\">\n",
       "  <thead>\n",
       "    <tr style=\"text-align: right;\">\n",
       "      <th></th>\n",
       "      <th>mean</th>\n",
       "      <th>median</th>\n",
       "      <th>skew</th>\n",
       "    </tr>\n",
       "  </thead>\n",
       "  <tbody>\n",
       "    <tr>\n",
       "      <th>oldpeak</th>\n",
       "      <td>1.043046</td>\n",
       "      <td>0.8</td>\n",
       "      <td>1.266173</td>\n",
       "    </tr>\n",
       "    <tr>\n",
       "      <th>chol</th>\n",
       "      <td>246.500000</td>\n",
       "      <td>240.5</td>\n",
       "      <td>1.147332</td>\n",
       "    </tr>\n",
       "    <tr>\n",
       "      <th>trestbps</th>\n",
       "      <td>131.602649</td>\n",
       "      <td>130.0</td>\n",
       "      <td>0.716541</td>\n",
       "    </tr>\n",
       "    <tr>\n",
       "      <th>thalach</th>\n",
       "      <td>149.569536</td>\n",
       "      <td>152.5</td>\n",
       "      <td>-0.532671</td>\n",
       "    </tr>\n",
       "    <tr>\n",
       "      <th>age</th>\n",
       "      <td>54.420530</td>\n",
       "      <td>55.5</td>\n",
       "      <td>-0.203743</td>\n",
       "    </tr>\n",
       "  </tbody>\n",
       "</table>\n",
       "</div>"
      ],
      "text/plain": [
       "                mean  median      skew\n",
       "oldpeak     1.043046     0.8  1.266173\n",
       "chol      246.500000   240.5  1.147332\n",
       "trestbps  131.602649   130.0  0.716541\n",
       "thalach   149.569536   152.5 -0.532671\n",
       "age        54.420530    55.5 -0.203743"
      ]
     },
     "execution_count": 13,
     "metadata": {},
     "output_type": "execute_result"
    }
   ],
   "source": [
    "d = {'mean': df[num_val].mean(),\n",
    "     'median': df[num_val].median(),\n",
    "     'skew': df[num_val].skew()}\n",
    "\n",
    "df2 = pd.DataFrame(d)\n",
    "\n",
    "df2.sort_values(by='skew', key=lambda x:-abs(x))"
   ]
  },
  {
   "cell_type": "code",
   "execution_count": 14,
   "id": "b15299eb",
   "metadata": {},
   "outputs": [
    {
     "data": {
      "image/png": "[encoded data removed]",
      "text/plain": [
       "<Figure size 1000x400 with 2 Axes>"
      ]
     },
     "metadata": {},
     "output_type": "display_data"
    }
   ],
   "source": [
    "plt.figure(figsize=(10,4))\n",
    "plt.subplot(1,2,1)\n",
    "#left skewness\n",
    "sns.kdeplot(df['thalach'])\n",
    "plt.title('left skewness')\n",
    "plt.subplot(1,2,2)\n",
    "#right skewness\n",
    "sns.kdeplot(df['oldpeak'])\n",
    "plt.title('right skewness')\n",
    "#plt.legend()\n",
    "plt.suptitle('KDE plot')\n",
    "plt.show()"
   ]
  },
  {
   "cell_type": "code",
   "execution_count": 15,
   "id": "207ee37b",
   "metadata": {},
   "outputs": [
    {
     "data": {
      "image/png": "[encoded data removed]",
      "text/plain": [
       "<Figure size 1500x300 with 5 Axes>"
      ]
     },
     "metadata": {},
     "output_type": "display_data"
    }
   ],
   "source": [
    "plt.figure(figsize=(15,3))\n",
    "plt.subplot(151)\n",
    "sns.boxplot(y=df[num_val[0]])\n",
    "plt.subplot(152)\n",
    "sns.boxplot(y=df[num_val[1]])\n",
    "plt.subplot(153)\n",
    "sns.boxplot(y=df[num_val[2]])\n",
    "plt.subplot(154)\n",
    "sns.boxplot(y=df[num_val[3]])\n",
    "plt.subplot(155)\n",
    "sns.boxplot(y=df[num_val[4]])\n",
    "plt.tight_layout()\n",
    "plt.show()"
   ]
  },
  {
   "cell_type": "markdown",
   "id": "60d366cb",
   "metadata": {},
   "source": [
    "From above, we can see that trestbps, chol and oldpeak are strongly right-skewed and have outliers."
   ]
  },
  {
   "cell_type": "code",
   "execution_count": 16,
   "id": "e425bab8",
   "metadata": {},
   "outputs": [
    {
     "data": {
      "image/png": "[encoded data removed]",
      "text/plain": [
       "<Figure size 2500x400 with 5 Axes>"
      ]
     },
     "metadata": {},
     "output_type": "display_data"
    }
   ],
   "source": [
    "plt.figure(figsize=(25, 4))\n",
    "for i, col in enumerate(num_val, 1):\n",
    "    plt.subplot(1, 5, i)\n",
    "    sns.histplot(data=df, x=col, hue='target')\n",
    "    plt.xlabel(col)"
   ]
  },
  {
   "cell_type": "markdown",
   "id": "34104619",
   "metadata": {},
   "source": [
    "- **age**: People with age<55 are more likely to have heart attacks, especially between 40-45\n",
    "- **trestbps {resting blood pressure}**: People with resting blood pressure less than 140 have a higher chance of heart attacks.\n",
    "- **chol {serum cholestoral}**: People who develop heart disease have much higher level of cholestral sometimes (e.g. >550) and most are concentrated in the range of 200-280.\n",
    "- **thalach {maximum heart rate achieved}**: People with thalach higher than 150 have a higher chance of heart attacks.\n",
    "- **oldpeak {ST depression induced by exercise relative to rest}**: oldpeak values less than 1 have a much higher change of heart attack."
   ]
  },
  {
   "cell_type": "code",
   "execution_count": 17,
   "id": "b79118e6",
   "metadata": {},
   "outputs": [
    {
     "data": {
      "text/plain": [
       "[('age', 0.0),\n",
       " ('trestbps', 0.0),\n",
       " ('chol', 0.0),\n",
       " ('thalach', 0.0),\n",
       " ('oldpeak', 1.5672835231798943e-11)]"
      ]
     },
     "execution_count": 17,
     "metadata": {},
     "output_type": "execute_result"
    }
   ],
   "source": [
    "num_corr = []\n",
    "for col in num_val:\n",
    "    num_corr.append((col, ss.f_oneway(df[col], df['target'])[1]))\n",
    "num_corr.sort(key=lambda x:x[1])\n",
    "num_corr"
   ]
  },
  {
   "cell_type": "markdown",
   "id": "0f845121",
   "metadata": {},
   "source": [
    "ANOVA test shows that all the numerical variables are strongly correlated with the target variable."
   ]
  },
  {
   "cell_type": "markdown",
   "id": "ba91e007",
   "metadata": {},
   "source": [
    "### 4. Feature Engineering"
   ]
  },
  {
   "cell_type": "code",
   "execution_count": 18,
   "id": "6d0bc3a8",
   "metadata": {},
   "outputs": [],
   "source": [
    "y = df['target']\n",
    "X = df.drop(columns=['target'])\n",
    "\n",
    "from sklearn.model_selection import train_test_split\n",
    "X_train,X_val,y_train,y_val=train_test_split(X,y,test_size=0.3,stratify=y,random_state=0)"
   ]
  },
  {
   "cell_type": "code",
   "execution_count": 19,
   "id": "ddc3e020",
   "metadata": {},
   "outputs": [],
   "source": [
    "from feature_engine.transformation import YeoJohnsonTransformer\n",
    "from feature_engine.outliers import Winsorizer\n",
    "from sklearn.preprocessing import StandardScaler\n",
    "\n",
    "# Yeo-Johnson (exponential transformation with automatic search including negative values)\n",
    "transformer = YeoJohnsonTransformer()\n",
    "\n",
    "# Winsorizer() caps maximum and / or minimum values of a variable\n",
    "capper = Winsorizer(capping_method='iqr', tail='both')\n",
    "\n",
    "# Standardization\n",
    "scaler = StandardScaler()"
   ]
  },
  {
   "cell_type": "markdown",
   "id": "1dccb4fc",
   "metadata": {},
   "source": [
    "### 5. Feature Selection"
   ]
  },
  {
   "cell_type": "code",
   "execution_count": 20,
   "id": "541af846",
   "metadata": {},
   "outputs": [],
   "source": [
    "from sklearn.feature_selection import SelectKBest, chi2\n",
    "\n",
    "selector = SelectKBest(score_func=chi2, k=7)"
   ]
  },
  {
   "cell_type": "code",
   "execution_count": 21,
   "id": "34167771",
   "metadata": {},
   "outputs": [],
   "source": [
    "from sklearn.pipeline import Pipeline, make_pipeline\n",
    "from sklearn.compose import ColumnTransformer\n",
    "\n",
    "cat_val2 = [col for col in cat_val if col != 'target']\n",
    "\n",
    "numeric_transformer = Pipeline(\n",
    "    steps=[\n",
    "           (\"Transformer\", transformer), \n",
    "           ('Capper', capper),\n",
    "           (\"Scaler\", scaler)\n",
    "          ]\n",
    ")\n",
    "\n",
    "categorical_transformer = selector\n",
    "\n",
    "preprocessor = ColumnTransformer(\n",
    "    transformers=[\n",
    "        (\"num\", numeric_transformer, num_val),\n",
    "        (\"cat\", categorical_transformer, cat_val2),\n",
    "    ]\n",
    ")\n",
    "\n",
    "X_train_tr = preprocessor.fit_transform(X_train,y_train)\n",
    "X_val_tr = preprocessor.transform(X_val)"
   ]
  },
  {
   "cell_type": "code",
   "execution_count": 22,
   "id": "022de3ef",
   "metadata": {},
   "outputs": [
    {
     "data": {
      "text/plain": [
       "array(['num__age', 'num__trestbps', 'num__chol', 'num__thalach',\n",
       "       'num__oldpeak', 'cat__sex', 'cat__cp', 'cat__restecg',\n",
       "       'cat__exang', 'cat__slope', 'cat__ca', 'cat__thal'], dtype=object)"
      ]
     },
     "execution_count": 22,
     "metadata": {},
     "output_type": "execute_result"
    }
   ],
   "source": [
    "preprocessor.get_feature_names_out()"
   ]
  },
  {
   "cell_type": "markdown",
   "id": "948082fc",
   "metadata": {},
   "source": [
    "We can see that the only unselected categorical variable is fbs, which is consistent with our chi-square test."
   ]
  },
  {
   "cell_type": "markdown",
   "id": "02fc9c2f",
   "metadata": {},
   "source": [
    "### 6. Model Selection"
   ]
  },
  {
   "cell_type": "code",
   "execution_count": 23,
   "id": "5514bd72",
   "metadata": {},
   "outputs": [],
   "source": [
    "# Import algorithms to try\n",
    "from sklearn.linear_model import LogisticRegression\n",
    "from sklearn.svm import SVC\n",
    "from sklearn.ensemble import RandomForestClassifier\n",
    "from sklearn.gaussian_process import GaussianProcessClassifier\n",
    "from sklearn.gaussian_process.kernels import RBF\n",
    "from xgboost import XGBClassifier\n",
    "import time\n",
    "from sklearn.metrics import accuracy_score, f1_score, roc_auc_score\n",
    "from sklearn.model_selection import cross_val_score"
   ]
  },
  {
   "cell_type": "code",
   "execution_count": 24,
   "id": "e757349f",
   "metadata": {},
   "outputs": [],
   "source": [
    "# Define algorithms to try\n",
    "algorithms = []\n",
    "algorithms.append(('Logistic Regression', LogisticRegression()))\n",
    "algorithms.append(('Linear SVM', SVC()))\n",
    "algorithms.append(('Random Forest', RandomForestClassifier()))\n",
    "algorithms.append(('Gaussian Process',  GaussianProcessClassifier()))\n",
    "algorithms.append(('XGBoost',XGBClassifier()))\n"
   ]
  },
  {
   "cell_type": "code",
   "execution_count": 25,
   "id": "a7747d3e",
   "metadata": {},
   "outputs": [],
   "source": [
    "# Initialize lists\n",
    "names = []\n",
    "train_accuracy = []\n",
    "test_accuracy = []\n",
    "train_f1 = []\n",
    "test_f1 = []\n",
    "train_auc = []\n",
    "test_auc = []\n",
    "cross_validation_scores = []\n",
    "runtime = []\n",
    "\n",
    "# Iterate ofer each element in algorithms\n",
    "for name, clf in algorithms:\n",
    "  t1 = time.time()\n",
    "  names.append(name)\n",
    "  clf.fit(X_train_tr, y_train)\n",
    "\n",
    "  train_accuracy.append(accuracy_score(y_train, clf.predict(X_train_tr)))\n",
    "  test_accuracy.append(accuracy_score(y_val, clf.predict(X_val_tr)))\n",
    "    \n",
    "  train_f1.append(f1_score(y_train, clf.predict(X_train_tr)))\n",
    "  test_f1.append(f1_score(y_val, clf.predict(X_val_tr)))\n",
    "    \n",
    "  train_auc.append(roc_auc_score(y_train, clf.predict(X_train_tr)))\n",
    "  test_auc.append(roc_auc_score(y_val, clf.predict(X_val_tr)))\n",
    "    \n",
    "  result = cross_val_score(clf, np.vstack((X_train_tr, X_val_tr)), \n",
    "                           np.hstack((y_train, y_val)), cv=3, scoring='accuracy')\n",
    "\n",
    "  cross_validation_scores.append(np.mean(result))\n",
    "    \n",
    "  t2 = time.time()\n",
    "  runtime.append(t2-t1)"
   ]
  },
  {
   "cell_type": "code",
   "execution_count": 26,
   "id": "815cf670",
   "metadata": {},
   "outputs": [
    {
     "data": {
      "text/html": [
       "<div>\n",
       "<style scoped>\n",
       "    .dataframe tbody tr th:only-of-type {\n",
       "        vertical-align: middle;\n",
       "    }\n",
       "\n",
       "    .dataframe tbody tr th {\n",
       "        vertical-align: top;\n",
       "    }\n",
       "\n",
       "    .dataframe thead th {\n",
       "        text-align: right;\n",
       "    }\n",
       "</style>\n",
       "<table border=\"1\" class=\"dataframe\">\n",
       "  <thead>\n",
       "    <tr style=\"text-align: right;\">\n",
       "      <th></th>\n",
       "      <th>Algorithm</th>\n",
       "      <th>Train accuracy</th>\n",
       "      <th>Val accuracy</th>\n",
       "      <th>Train f1 score</th>\n",
       "      <th>Val f1 score</th>\n",
       "      <th>Train auc score</th>\n",
       "      <th>Val auc score</th>\n",
       "      <th>Cross val score</th>\n",
       "      <th>Runtime</th>\n",
       "    </tr>\n",
       "  </thead>\n",
       "  <tbody>\n",
       "    <tr>\n",
       "      <th>1</th>\n",
       "      <td>Linear SVM</td>\n",
       "      <td>0.872038</td>\n",
       "      <td>0.868132</td>\n",
       "      <td>0.890688</td>\n",
       "      <td>0.882353</td>\n",
       "      <td>0.863678</td>\n",
       "      <td>0.863946</td>\n",
       "      <td>0.831254</td>\n",
       "      <td>0.047031</td>\n",
       "    </tr>\n",
       "    <tr>\n",
       "      <th>0</th>\n",
       "      <td>Logistic Regression</td>\n",
       "      <td>0.810427</td>\n",
       "      <td>0.890110</td>\n",
       "      <td>0.834711</td>\n",
       "      <td>0.901961</td>\n",
       "      <td>0.803714</td>\n",
       "      <td>0.886054</td>\n",
       "      <td>0.821386</td>\n",
       "      <td>0.036002</td>\n",
       "    </tr>\n",
       "    <tr>\n",
       "      <th>2</th>\n",
       "      <td>Random Forest</td>\n",
       "      <td>1.000000</td>\n",
       "      <td>0.835165</td>\n",
       "      <td>1.000000</td>\n",
       "      <td>0.845361</td>\n",
       "      <td>1.000000</td>\n",
       "      <td>0.835034</td>\n",
       "      <td>0.811221</td>\n",
       "      <td>0.589967</td>\n",
       "    </tr>\n",
       "    <tr>\n",
       "      <th>4</th>\n",
       "      <td>XGBoost</td>\n",
       "      <td>1.000000</td>\n",
       "      <td>0.824176</td>\n",
       "      <td>1.000000</td>\n",
       "      <td>0.833333</td>\n",
       "      <td>1.000000</td>\n",
       "      <td>0.824830</td>\n",
       "      <td>0.798020</td>\n",
       "      <td>0.524002</td>\n",
       "    </tr>\n",
       "    <tr>\n",
       "      <th>3</th>\n",
       "      <td>Gaussian Process</td>\n",
       "      <td>0.995261</td>\n",
       "      <td>0.835165</td>\n",
       "      <td>0.995671</td>\n",
       "      <td>0.851485</td>\n",
       "      <td>0.994792</td>\n",
       "      <td>0.831633</td>\n",
       "      <td>0.794851</td>\n",
       "      <td>0.074000</td>\n",
       "    </tr>\n",
       "  </tbody>\n",
       "</table>\n",
       "</div>"
      ],
      "text/plain": [
       "             Algorithm  Train accuracy  Val accuracy  Train f1 score  \\\n",
       "1           Linear SVM        0.872038      0.868132        0.890688   \n",
       "0  Logistic Regression        0.810427      0.890110        0.834711   \n",
       "2        Random Forest        1.000000      0.835165        1.000000   \n",
       "4              XGBoost        1.000000      0.824176        1.000000   \n",
       "3     Gaussian Process        0.995261      0.835165        0.995671   \n",
       "\n",
       "   Val f1 score  Train auc score  Val auc score  Cross val score   Runtime  \n",
       "1      0.882353         0.863678       0.863946         0.831254  0.047031  \n",
       "0      0.901961         0.803714       0.886054         0.821386  0.036002  \n",
       "2      0.845361         1.000000       0.835034         0.811221  0.589967  \n",
       "4      0.833333         1.000000       0.824830         0.798020  0.524002  \n",
       "3      0.851485         0.994792       0.831633         0.794851  0.074000  "
      ]
     },
     "execution_count": 26,
     "metadata": {},
     "output_type": "execute_result"
    }
   ],
   "source": [
    "# Create comparison dataframe\n",
    "model_comparison = pd.DataFrame({'Algorithm': names,\n",
    "                                 'Train accuracy': train_accuracy,\n",
    "                                 'Val accuracy': test_accuracy,\n",
    "                                 'Train f1 score': train_f1,\n",
    "                                 'Val f1 score': test_f1,\n",
    "                                 'Train auc score': train_auc,\n",
    "                                 'Val auc score': test_auc,\n",
    "                                 'Cross val score': cross_validation_scores,\n",
    "                                 'Runtime': runtime,})\n",
    "\n",
    "# Sort by Test_RMSE\n",
    "model_comparison.sort_values(by=['Cross val score'], ascending=False)"
   ]
  },
  {
   "cell_type": "markdown",
   "id": "864ec970",
   "metadata": {},
   "source": [
    "### 7. Hyperparameter Tuning"
   ]
  },
  {
   "cell_type": "code",
   "execution_count": 27,
   "id": "bf7eb6fa",
   "metadata": {},
   "outputs": [],
   "source": [
    "from sklearn.model_selection import RandomizedSearchCV\n",
    "\n",
    "param_grid = {\"svc__C\":(0.1, 0.5, 1, 2, 5, 10, 20), \n",
    "              \"svc__gamma\":(0.001, 0.01, 0.1, 0.25, 0.5, 0.75, 1), \n",
    "              \"svc__kernel\":('linear', 'poly', 'rbf')}\n",
    "\n",
    "clf = SVC() \n",
    "\n",
    "full_pipe = make_pipeline(preprocessor,\n",
    "                          clf\n",
    "                         )\n",
    "\n",
    "random_search = RandomizedSearchCV(full_pipe, param_grid, cv=3, n_iter=100, \n",
    "                                   scoring='accuracy', n_jobs=-1, verbose=1)\n"
   ]
  },
  {
   "cell_type": "code",
   "execution_count": 28,
   "id": "d459b6ba",
   "metadata": {},
   "outputs": [
    {
     "name": "stdout",
     "output_type": "stream",
     "text": [
      "Fitting 3 folds for each of 100 candidates, totalling 300 fits\n",
      "Best parameters:\n",
      "{'svc__kernel': 'rbf', 'svc__gamma': 0.001, 'svc__C': 20}\n",
      "Best score:\n",
      "0.8442244224422443\n"
     ]
    }
   ],
   "source": [
    "random_search.fit(X, y)\n",
    "print(\"Best parameters:\")\n",
    "print(random_search.best_params_)\n",
    "print(\"Best score:\")\n",
    "print(random_search.best_score_)"
   ]
  },
  {
   "cell_type": "markdown",
   "id": "f4cc7190",
   "metadata": {},
   "source": [
    "**Let's check if the test score will be different when keeping fbs in the input features.**"
   ]
  },
  {
   "cell_type": "code",
   "execution_count": 29,
   "id": "2fcea4f0",
   "metadata": {},
   "outputs": [],
   "source": [
    "preprocessor = ColumnTransformer(\n",
    "    transformers=[\n",
    "        (\"num\", numeric_transformer, num_val),\n",
    "      #  (\"cat\", categorical_transformer, cat_val2),\n",
    "    ]\n",
    ")\n",
    "\n",
    "full_pipe = make_pipeline(preprocessor,\n",
    "                          clf\n",
    "                         )\n",
    "\n",
    "random_search = RandomizedSearchCV(full_pipe, param_grid, cv=3, n_iter=100, \n",
    "                                   scoring='accuracy', n_jobs=-1, verbose=1)\n"
   ]
  },
  {
   "cell_type": "code",
   "execution_count": 30,
   "id": "4032518c",
   "metadata": {},
   "outputs": [
    {
     "name": "stdout",
     "output_type": "stream",
     "text": [
      "Fitting 3 folds for each of 100 candidates, totalling 300 fits\n",
      "Best parameters:\n",
      "{'svc__kernel': 'poly', 'svc__gamma': 0.1, 'svc__C': 10}\n",
      "Best score:\n",
      "0.7350825082508251\n"
     ]
    }
   ],
   "source": [
    "random_search.fit(X, y)\n",
    "print(\"Best parameters:\")\n",
    "print(random_search.best_params_)\n",
    "print(\"Best score:\")\n",
    "print(random_search.best_score_)"
   ]
  },
  {
   "cell_type": "markdown",
   "id": "b733390b",
   "metadata": {},
   "source": [
    "the score drops to 0.7383 when fbs is added back. We know from chi-square test that fbs is irrelevant, adding it to the input will degrade the model performance."
   ]
  },
  {
   "cell_type": "markdown",
   "id": "f613cd4a",
   "metadata": {},
   "source": [
    "### Conclusion\n",
    "\n",
    "This project aims to study the risk of heart disease based on patients' age, sex and other clinical parameters. Data preprocessing techniques such as standardization, transformation and winsorization are applied to numerical variables, and chi-square test is applied to select related categorical features. A number of ML models (LogisticRegression, SVC, RandomForest, GaussianProcess and XGBoost) are used as baseline models. Hyperparameters are fine tuned for SVC. The test accuracy is increased from 0.8313 to 0.8442. It is also shown that without feature selection, the test accuracy drops to 0.7383."
   ]
  },
  {
   "cell_type": "code",
   "execution_count": null,
   "id": "5c85b5b7",
   "metadata": {},
   "outputs": [],
   "source": []
  }
 ],
 "metadata": {
  "kernelspec": {
   "display_name": "Python 3 (ipykernel)",
   "language": "python",
   "name": "python3"
  },
  "language_info": {
   "codemirror_mode": {
    "name": "ipython",
    "version": 3
   },
   "file_extension": ".py",
   "mimetype": "text/x-python",
   "name": "python",
   "nbconvert_exporter": "python",
   "pygments_lexer": "ipython3",
   "version": "3.9.13"
  }
 },
 "nbformat": 4,
 "nbformat_minor": 5
}
